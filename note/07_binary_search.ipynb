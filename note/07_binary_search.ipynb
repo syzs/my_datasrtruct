{
 "cells": [
  {
   "cell_type": "markdown",
   "metadata": {},
   "source": [
    "#### 二分查找\n",
    "\n",
    "* 时间复杂度：O(logn)\n",
    "\n",
    "\n",
    "二分查找针对的是一个有序的数据集合，查找思想有点类似分治思想。每次都通过跟区间的中间元素对比，将待查找的区间缩小为之前的一半，直到找到要查找的元素，或者区间被缩小为 0。\n",
    "\n",
    "\n",
    "##### 使用场景：\n",
    "1. 首先，二分查找依赖的是顺序表结构，简单点说就是数组。\n",
    "2. 其次，二分查找针对的是有序数据。\n",
    "    * 二分查找对这一点的要求比较苛刻，数据必须是有序的。如果数据没有序，我们需要先排序。前面章节里我们讲到，排序的时间复杂度最低是 O(nlogn)。所以，如果我们针对的是一组静态的数据，没有频繁地插入、删除，我们可以进行一次排序，多次二分查找。这样排序的成本可被均摊，二分查找的边际成本就会比较低。\n",
    "3. 再次，数据量太小不适合二分查找。\n",
    "    * 如果要处理的数据量很小，完全没有必要用二分查找，顺序遍历就足够了。比如我们在一个大小为 10 的数组中查找一个元素，不管用二分查找还是顺序遍历，查找速度都差不多。只有数据量比较大的时候，二分查找的优势才会比较明显。\n",
    "    * 不过，这里有一个例外。如果数据之间的比较操作非常耗时，不管数据量大小，我都推荐使用二分查找。比如，数组中存储的都是长度超过 300 的字符串，如此长的两个字符串之间比对大小，就会非常耗时。我们需要尽可能地减少比较次数，而比较次数的减少会大大提高性能，这个时候二分查找就比顺序遍历更有优势。\n",
    "4. 最后，数据量太大也不适合二分查找。\n",
    "    * 二分查找的底层需要依赖数组这种数据结构，而数组为了支持随机访问的特性，要求内存空间连续，对内存的要求比较苛刻。比如，我们有 1GB 大小的数据，如果希望用数组来存储，那就需要 1GB 的连续内存空间。"
   ]
  },
  {
   "cell_type": "code",
   "execution_count": null,
   "metadata": {},
   "outputs": [],
   "source": [
    "def bsearch(self, arr: list, v: int) -> int:\n",
    "    low = 0\n",
    "    high = len(arr) - 1\n",
    "    while low <= high: # 注意是 low<=high，而不是 low<high。\n",
    "        # 实际上，mid=(low+high)/2 这种写法是有问题的。\n",
    "        # 因为如果 low 和 high 比较大的话，两者之和就有可能会溢出。改进的方法是将 mid 的计算方式写成 low+(high-low)/2。\n",
    "        # 更进一步，如果要将性能优化到极致的话，我们可以将这里的除以 2 操作转化成位运算 low+((high-low)>>1)。\n",
    "        # 因为相比除法运算来说，计算机处理位运算要快得多。\n",
    "        mid = (low + high) // 2\n",
    "        if arr[mid] == v:\n",
    "            return mid\n",
    "        if arr[mid] > v:\n",
    "            high = mid - 1\n",
    "            continue\n",
    "        else:\n",
    "            low = mid + 1\n",
    "    return -1\n"
   ]
  },
  {
   "cell_type": "code",
   "execution_count": null,
   "metadata": {},
   "outputs": [],
   "source": [
    "def bsearchInternally(self, arr: list, v: int) -> int:\n",
    "     return self.bsearchInterInternally(arr, 0, len(arr) - 1, v)\n",
    "\n",
    "\n",
    "def bsearchInterInternally(self, arr: int, low: int, high: int, v: int) -> int:\n",
    "     if low > high:\n",
    "         return -1\n",
    "     mid = low + (high - low) // 2\n",
    "     # mid = low + ((high - low) >> 1) # 位运算的优先级比+/-低\n",
    "     if arr[mid] == v:\n",
    "         return mid\n",
    "     if arr[mid] > v:\n",
    "         return self.bsearchInterInternally(arr, low, mid - 1, v);\n",
    "     else:\n",
    "         return self.bsearchInterInternally(arr, mid + 1, high, v)"
   ]
  },
  {
   "cell_type": "markdown",
   "metadata": {},
   "source": [
    "##### 快速定位 IP 地址归属地\n",
    "\n",
    "https://time.geekbang.org/column/article/42733?utm_campaign=geektime_search&utm_content=geektime_search&utm_medium=geektime_search&utm_source=geektime_search&utm_term=geektime_search"
   ]
  },
  {
   "cell_type": "code",
   "execution_count": null,
   "metadata": {},
   "outputs": [],
   "source": [
    "'''\n",
    "69. Sqrt(x) Easy\n",
    "\n",
    "Given a non-negative integer x, return the square root of x rounded down to the nearest integer. The returned integer should be non-negative as well.\n",
    "\n",
    "You must not use any built-in exponent function or operator.\n",
    "\n",
    "For example, do not use pow(x, 0.5) in c++ or x ** 0.5 in python.\n",
    " \n",
    "\n",
    "Example 1:\n",
    "\n",
    "Input: x = 4\n",
    "Output: 2\n",
    "Explanation: The square root of 4 is 2, so we return 2.\n",
    "Example 2:\n",
    "\n",
    "Input: x = 8\n",
    "Output: 2\n",
    "Explanation: The square root of 8 is 2.82842..., and since we round it down to the nearest integer, 2 is returned.\n",
    "'''\n",
    "\n",
    "class Solution:\n",
    "    def mySqrt(self, x: int) -> int:\n",
    "        if x == 0 or x == 1:\n",
    "            return x\n",
    "        \n",
    "        l,r = 1, x\n",
    "        res = 1\n",
    "        while l <= r:\n",
    "            mid = (l+r)//2\n",
    "            if mid == x//mid: # mid*mid 可能会越界，x//mid 更安全\n",
    "                return mid\n",
    "            if mid > x//mid:\n",
    "                r = mid-1 # 如果返回的结果是float，这里不要+-1\n",
    "            else:\n",
    "                l = mid+1\n",
    "                res = mid\n",
    "        return res\n",
    "\n",
    "\n",
    "        "
   ]
  }
 ],
 "metadata": {
  "language_info": {
   "name": "python"
  }
 },
 "nbformat": 4,
 "nbformat_minor": 2
}
